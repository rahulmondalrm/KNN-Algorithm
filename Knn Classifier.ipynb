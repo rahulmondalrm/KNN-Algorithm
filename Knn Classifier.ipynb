{
 "cells": [
  {
   "cell_type": "code",
   "execution_count": 3,
   "metadata": {},
   "outputs": [],
   "source": [
    "import numpy as np\n",
    "import pandas as pd\n",
    "import matplotlib.pyplot as plt"
   ]
  },
  {
   "cell_type": "code",
   "execution_count": 4,
   "metadata": {},
   "outputs": [
    {
     "data": {
      "text/html": [
       "<div>\n",
       "<style scoped>\n",
       "    .dataframe tbody tr th:only-of-type {\n",
       "        vertical-align: middle;\n",
       "    }\n",
       "\n",
       "    .dataframe tbody tr th {\n",
       "        vertical-align: top;\n",
       "    }\n",
       "\n",
       "    .dataframe thead th {\n",
       "        text-align: right;\n",
       "    }\n",
       "</style>\n",
       "<table border=\"1\" class=\"dataframe\">\n",
       "  <thead>\n",
       "    <tr style=\"text-align: right;\">\n",
       "      <th></th>\n",
       "      <th>User ID</th>\n",
       "      <th>Gender</th>\n",
       "      <th>Age</th>\n",
       "      <th>EstimatedSalary</th>\n",
       "      <th>Purchased</th>\n",
       "    </tr>\n",
       "  </thead>\n",
       "  <tbody>\n",
       "    <tr>\n",
       "      <th>0</th>\n",
       "      <td>15624510</td>\n",
       "      <td>Male</td>\n",
       "      <td>19</td>\n",
       "      <td>19000</td>\n",
       "      <td>0</td>\n",
       "    </tr>\n",
       "    <tr>\n",
       "      <th>1</th>\n",
       "      <td>15810944</td>\n",
       "      <td>Male</td>\n",
       "      <td>35</td>\n",
       "      <td>20000</td>\n",
       "      <td>0</td>\n",
       "    </tr>\n",
       "    <tr>\n",
       "      <th>2</th>\n",
       "      <td>15668575</td>\n",
       "      <td>Female</td>\n",
       "      <td>26</td>\n",
       "      <td>43000</td>\n",
       "      <td>0</td>\n",
       "    </tr>\n",
       "    <tr>\n",
       "      <th>3</th>\n",
       "      <td>15603246</td>\n",
       "      <td>Female</td>\n",
       "      <td>27</td>\n",
       "      <td>57000</td>\n",
       "      <td>0</td>\n",
       "    </tr>\n",
       "    <tr>\n",
       "      <th>4</th>\n",
       "      <td>15804002</td>\n",
       "      <td>Male</td>\n",
       "      <td>19</td>\n",
       "      <td>76000</td>\n",
       "      <td>0</td>\n",
       "    </tr>\n",
       "  </tbody>\n",
       "</table>\n",
       "</div>"
      ],
      "text/plain": [
       "    User ID  Gender  Age  EstimatedSalary  Purchased\n",
       "0  15624510    Male   19            19000          0\n",
       "1  15810944    Male   35            20000          0\n",
       "2  15668575  Female   26            43000          0\n",
       "3  15603246  Female   27            57000          0\n",
       "4  15804002    Male   19            76000          0"
      ]
     },
     "execution_count": 4,
     "metadata": {},
     "output_type": "execute_result"
    }
   ],
   "source": [
    "data=pd.read_csv('Social_Network_Ads.csv')\n",
    "data.head()"
   ]
  },
  {
   "cell_type": "code",
   "execution_count": 5,
   "metadata": {},
   "outputs": [],
   "source": [
    "x=data.iloc[:,2:4].values"
   ]
  },
  {
   "cell_type": "code",
   "execution_count": 6,
   "metadata": {},
   "outputs": [
    {
     "data": {
      "text/plain": [
       "(400, 2)"
      ]
     },
     "execution_count": 6,
     "metadata": {},
     "output_type": "execute_result"
    }
   ],
   "source": [
    "x.shape"
   ]
  },
  {
   "cell_type": "code",
   "execution_count": 7,
   "metadata": {},
   "outputs": [],
   "source": [
    "y=data.iloc[:,-1].values"
   ]
  },
  {
   "cell_type": "code",
   "execution_count": 8,
   "metadata": {},
   "outputs": [
    {
     "data": {
      "text/plain": [
       "(400,)"
      ]
     },
     "execution_count": 8,
     "metadata": {},
     "output_type": "execute_result"
    }
   ],
   "source": [
    "y.shape"
   ]
  },
  {
   "cell_type": "code",
   "execution_count": null,
   "metadata": {},
   "outputs": [],
   "source": []
  },
  {
   "cell_type": "code",
   "execution_count": 9,
   "metadata": {},
   "outputs": [],
   "source": [
    "from sklearn.model_selection import train_test_split\n",
    "x_train,x_test,y_train,y_test=train_test_split(x,y,test_size=0.20)"
   ]
  },
  {
   "cell_type": "code",
   "execution_count": 10,
   "metadata": {},
   "outputs": [
    {
     "data": {
      "text/plain": [
       "(320, 2)"
      ]
     },
     "execution_count": 10,
     "metadata": {},
     "output_type": "execute_result"
    }
   ],
   "source": [
    "x_train.shape"
   ]
  },
  {
   "cell_type": "code",
   "execution_count": 11,
   "metadata": {},
   "outputs": [
    {
     "data": {
      "text/plain": [
       "(80, 2)"
      ]
     },
     "execution_count": 11,
     "metadata": {},
     "output_type": "execute_result"
    }
   ],
   "source": [
    "x_test.shape"
   ]
  },
  {
   "cell_type": "code",
   "execution_count": 12,
   "metadata": {},
   "outputs": [],
   "source": [
    "from sklearn.preprocessing import StandardScaler\n",
    "scaler=StandardScaler()"
   ]
  },
  {
   "cell_type": "code",
   "execution_count": 13,
   "metadata": {},
   "outputs": [
    {
     "name": "stderr",
     "output_type": "stream",
     "text": [
      "D:\\Anaconda\\lib\\site-packages\\sklearn\\utils\\validation.py:595: DataConversionWarning: Data with input dtype int64 was converted to float64 by StandardScaler.\n",
      "  warnings.warn(msg, DataConversionWarning)\n",
      "D:\\Anaconda\\lib\\site-packages\\sklearn\\utils\\validation.py:595: DataConversionWarning: Data with input dtype int64 was converted to float64 by StandardScaler.\n",
      "  warnings.warn(msg, DataConversionWarning)\n"
     ]
    },
    {
     "data": {
      "text/plain": [
       "array([[-1.12486052e+00,  4.05475767e-01],\n",
       "       [ 2.08307503e-01, -2.85921633e-01],\n",
       "       [ 2.08307503e-01,  2.32626417e-01],\n",
       "       [ 1.16057037e+00, -7.46853234e-01],\n",
       "       [-1.12486052e+00, -7.75661459e-01],\n",
       "       [-1.50576567e+00, -1.99496958e-01],\n",
       "       [-1.88667081e+00,  3.47859317e-01],\n",
       "       [ 8.74891513e-01, -6.60428559e-01],\n",
       "       [-2.67823933e-01, -3.43538083e-01],\n",
       "       [-9.34407943e-01,  4.91900442e-01],\n",
       "       [ 7.79665226e-01, -3.14729858e-01],\n",
       "       [ 2.01760696e+00, -1.17897661e+00],\n",
       "       [-7.43955368e-01,  2.61434642e-01],\n",
       "       [-5.53502794e-01,  1.35614719e+00],\n",
       "       [-1.69621824e+00, -1.35182596e+00],\n",
       "       [-2.67823933e-01, -9.19702584e-01],\n",
       "       [ 1.92238067e+00, -9.19702584e-01],\n",
       "       [ 3.03533790e-01, -5.16387434e-01],\n",
       "       [ 1.13081216e-01,  1.50018832e+00],\n",
       "       [ 1.13081216e-01,  2.61434642e-01],\n",
       "       [-1.60099195e+00,  5.97770669e-02],\n",
       "       [-2.67823933e-01, -2.57113408e-01],\n",
       "       [ 1.92238067e+00, -6.60428559e-01],\n",
       "       [-1.50576567e+00, -1.49586708e+00],\n",
       "       [-4.58276507e-01, -7.75661459e-01],\n",
       "       [ 7.79665226e-01,  3.47859317e-01],\n",
       "       [ 4.93986365e-01,  1.81707879e+00],\n",
       "       [-9.34407943e-01, -4.29962758e-01],\n",
       "       [ 2.08307503e-01,  1.06806494e+00],\n",
       "       [-9.34407943e-01,  4.34283992e-01],\n",
       "       [-7.43955368e-01, -1.52467531e+00],\n",
       "       [-1.12486052e+00, -1.00612726e+00],\n",
       "       [ 1.78549288e-02,  3.09688419e-02],\n",
       "       [ 1.13081216e-01, -8.04469684e-01],\n",
       "       [-1.31531309e+00,  4.05475767e-01],\n",
       "       [ 3.98760077e-01, -1.41880508e-01],\n",
       "       [ 3.03533790e-01, -1.99496958e-01],\n",
       "       [ 1.06534409e+00, -8.90894359e-01],\n",
       "       [-1.31531309e+00, -1.35182596e+00],\n",
       "       [-2.67823933e-01, -1.35182596e+00],\n",
       "       [ 6.84438939e-01, -1.26540128e+00],\n",
       "       [-5.53502794e-01,  1.87469524e+00],\n",
       "       [-2.67823933e-01, -8.90894359e-01],\n",
       "       [ 6.84438939e-01, -7.18045009e-01],\n",
       "       [-8.39181656e-01,  2.90242867e-01],\n",
       "       [ 1.13081216e-01,  1.84588702e+00],\n",
       "       [-1.12486052e+00,  2.90242867e-01],\n",
       "       [ 3.98760077e-01,  2.61434642e-01],\n",
       "       [ 1.13081216e-01,  3.09688419e-02],\n",
       "       [ 3.98760077e-01, -4.87579209e-01],\n",
       "       [-1.31531309e+00, -1.46705886e+00],\n",
       "       [ 3.98760077e-01,  5.78325117e-01],\n",
       "       [ 1.35102295e+00, -1.40944241e+00],\n",
       "       [ 7.79665226e-01,  7.51174467e-01],\n",
       "       [-7.43955368e-01, -1.58229176e+00],\n",
       "       [-1.02963423e+00,  5.20708667e-01],\n",
       "       [-7.73713583e-02,  2.90242867e-01],\n",
       "       [ 2.08307503e-01,  2.07635282e+00],\n",
       "       [ 1.13081216e-01, -3.14729858e-01],\n",
       "       [-1.72597645e-01,  1.58661299e+00],\n",
       "       [-1.60099195e+00, -1.55348353e+00],\n",
       "       [ 1.44624924e+00,  2.10516104e+00],\n",
       "       [-1.41053938e+00, -6.31620334e-01],\n",
       "       [-4.58276507e-01, -8.33277909e-01],\n",
       "       [ 1.16057037e+00, -9.77319034e-01],\n",
       "       [-1.72597645e-01, -2.85921633e-01],\n",
       "       [-1.69621824e+00, -6.02812109e-01],\n",
       "       [ 1.54147552e+00, -1.26540128e+00],\n",
       "       [ 1.44624924e+00,  9.81640268e-01],\n",
       "       [ 9.70117800e-01,  5.78325117e-01],\n",
       "       [-6.48729081e-01, -1.03493548e+00],\n",
       "       [ 8.74891513e-01, -1.03493548e+00],\n",
       "       [-7.43955368e-01,  1.32733897e+00],\n",
       "       [ 6.84438939e-01, -1.38063418e+00],\n",
       "       [-1.31531309e+00, -1.23659306e+00],\n",
       "       [-1.88667081e+00, -7.46853234e-01],\n",
       "       [-7.73713583e-02,  1.93231169e+00],\n",
       "       [-6.48729081e-01, -3.43538083e-01],\n",
       "       [ 5.89212652e-01, -8.90894359e-01],\n",
       "       [ 2.08307503e-01, -1.41880508e-01],\n",
       "       [-9.34407943e-01,  2.61434642e-01],\n",
       "       [-1.41053938e+00, -1.99496958e-01],\n",
       "       [ 2.11283325e+00,  9.24023818e-01],\n",
       "       [-1.12486052e+00, -1.09255193e+00],\n",
       "       [ 1.44624924e+00,  3.47859317e-01],\n",
       "       [-1.79144453e+00,  1.75009967e-01],\n",
       "       [ 5.89212652e-01,  1.98992814e+00],\n",
       "       [-1.22008680e+00,  2.90242867e-01],\n",
       "       [ 1.06534409e+00, -1.20778483e+00],\n",
       "       [-5.53502794e-01, -1.49586708e+00],\n",
       "       [ 1.78549288e-02, -2.57113408e-01],\n",
       "       [ 2.08307503e-01,  5.97770669e-02],\n",
       "       [-2.67823933e-01,  2.61434642e-01],\n",
       "       [ 8.74891513e-01, -7.75661459e-01],\n",
       "       [ 1.13081216e-01,  3.09688419e-02],\n",
       "       [ 8.74891513e-01, -1.15016838e+00],\n",
       "       [-1.02963423e+00, -3.43538083e-01],\n",
       "       [-1.79144453e+00, -1.40944241e+00],\n",
       "       [ 1.54147552e+00,  1.09687317e+00],\n",
       "       [ 6.84438939e-01,  2.61434642e-01],\n",
       "       [ 1.06534409e+00,  1.17393517e-01],\n",
       "       [ 1.25579666e+00,  2.19158572e+00],\n",
       "       [-2.67823933e-01,  5.20708667e-01],\n",
       "       [-1.88667081e+00, -5.54558332e-02],\n",
       "       [ 8.74891513e-01, -5.45195659e-01],\n",
       "       [-1.12486052e+00,  3.19051092e-01],\n",
       "       [ 3.03533790e-01, -3.14729858e-01],\n",
       "       [ 1.54147552e+00,  9.81640268e-01],\n",
       "       [ 7.79665226e-01,  2.61434642e-01],\n",
       "       [-1.02963423e+00, -1.12136016e+00],\n",
       "       [-2.67823933e-01, -3.72346308e-01],\n",
       "       [ 9.70117800e-01,  1.75946234e+00],\n",
       "       [ 1.06534409e+00,  2.04754459e+00],\n",
       "       [ 2.11283325e+00, -6.89236784e-01],\n",
       "       [ 2.11283325e+00,  3.76667542e-01],\n",
       "       [-7.73713583e-02,  2.90242867e-01],\n",
       "       [-1.02963423e+00,  5.49516892e-01],\n",
       "       [-1.72597645e-01, -5.74003884e-01],\n",
       "       [ 1.44624924e+00,  5.97770669e-02],\n",
       "       [-5.53502794e-01,  2.30681862e+00],\n",
       "       [-1.12486052e+00, -1.58229176e+00],\n",
       "       [ 1.25579666e+00, -1.35182596e+00],\n",
       "       [-1.02963423e+00, -3.72346308e-01],\n",
       "       [-6.48729081e-01,  5.49516892e-01],\n",
       "       [ 1.73192810e+00, -2.85921633e-01],\n",
       "       [-6.48729081e-01, -1.58229176e+00],\n",
       "       [-8.39181656e-01, -7.75661459e-01],\n",
       "       [ 9.70117800e-01, -1.15016838e+00],\n",
       "       [ 6.84438939e-01, -1.09255193e+00],\n",
       "       [ 1.78549288e-02,  1.24091429e+00],\n",
       "       [ 7.79665226e-01,  5.20708667e-01],\n",
       "       [ 7.79665226e-01, -1.35182596e+00],\n",
       "       [-1.50576567e+00,  3.19051092e-01],\n",
       "       [ 1.82715438e+00,  1.50018832e+00],\n",
       "       [ 1.73192810e+00,  9.81640268e-01],\n",
       "       [-9.34407943e-01, -1.09255193e+00],\n",
       "       [-5.53502794e-01,  1.35614719e+00],\n",
       "       [-7.73713583e-02, -4.29962758e-01],\n",
       "       [-6.48729081e-01, -5.54558332e-02],\n",
       "       [-2.67823933e-01, -1.43825063e+00],\n",
       "       [ 3.03533790e-01,  2.90242867e-01],\n",
       "       [ 1.92238067e+00, -1.35182596e+00],\n",
       "       [ 1.13081216e-01,  7.51174467e-01],\n",
       "       [ 1.06534409e+00, -9.77319034e-01],\n",
       "       [-3.63050220e-01,  1.21210607e+00],\n",
       "       [-1.60099195e+00, -5.54558332e-02],\n",
       "       [ 2.08307503e-01,  1.46201742e-01],\n",
       "       [-4.58276507e-01, -2.85921633e-01],\n",
       "       [ 2.01760696e+00,  2.10516104e+00],\n",
       "       [-9.34407943e-01, -7.46853234e-01],\n",
       "       [-1.69621824e+00,  3.47859317e-01],\n",
       "       [-3.63050220e-01, -7.75661459e-01],\n",
       "       [ 2.11283325e+00, -1.03493548e+00],\n",
       "       [ 3.98760077e-01,  9.81640268e-01],\n",
       "       [-1.72597645e-01, -5.16387434e-01],\n",
       "       [ 3.03533790e-01, -7.18045009e-01],\n",
       "       [-2.67823933e-01,  2.22039394e+00],\n",
       "       [-7.73713583e-02, -2.28305183e-01],\n",
       "       [-4.58276507e-01, -1.20778483e+00],\n",
       "       [ 7.79665226e-01,  1.35614719e+00],\n",
       "       [-1.31531309e+00, -3.43538083e-01],\n",
       "       [ 2.08307503e-01, -3.72346308e-01],\n",
       "       [ 1.82715438e+00, -1.26540128e+00],\n",
       "       [-1.79144453e+00,  4.34283992e-01],\n",
       "       [ 1.92238067e+00,  7.22366242e-01],\n",
       "       [ 1.35102295e+00,  1.96111992e+00],\n",
       "       [ 9.70117800e-01, -1.06374371e+00],\n",
       "       [-7.73713583e-02,  1.46201742e-01],\n",
       "       [-2.67823933e-01,  1.09687317e+00],\n",
       "       [-1.22008680e+00, -1.38063418e+00],\n",
       "       [-1.31531309e+00, -4.29962758e-01],\n",
       "       [ 8.74891513e-01, -1.35182596e+00],\n",
       "       [-1.72597645e-01,  1.38495542e+00],\n",
       "       [-2.67823933e-01,  8.85852919e-02],\n",
       "       [ 1.78549288e-02, -4.29962758e-01],\n",
       "       [-7.73713583e-02, -1.06374371e+00],\n",
       "       [-1.02963423e+00, -4.58770984e-01],\n",
       "       [-7.73713583e-02,  6.64749792e-01],\n",
       "       [-7.73713583e-02, -4.87579209e-01],\n",
       "       [-6.48729081e-01, -1.49586708e+00],\n",
       "       [ 2.08307503e-01, -6.60428559e-01],\n",
       "       [-2.67823933e-01, -4.87579209e-01],\n",
       "       [ 2.01760696e+00,  5.20708667e-01],\n",
       "       [ 1.82715438e+00, -2.85921633e-01],\n",
       "       [-6.48729081e-01,  3.09688419e-02],\n",
       "       [-5.53502794e-01,  1.44257187e+00],\n",
       "       [-7.43955368e-01,  2.90242867e-01],\n",
       "       [ 8.74891513e-01,  1.01044849e+00],\n",
       "       [-7.73713583e-02,  2.03818192e-01],\n",
       "       [-9.34407943e-01,  1.52899654e+00],\n",
       "       [ 3.98760077e-01,  2.16061688e-03],\n",
       "       [-7.73713583e-02,  1.17393517e-01],\n",
       "       [-1.69621824e+00,  4.63092217e-01],\n",
       "       [ 1.82715438e+00,  1.17393517e-01],\n",
       "       [ 8.74891513e-01,  2.13396927e+00],\n",
       "       [-8.39181656e-01, -7.75661459e-01],\n",
       "       [-5.53502794e-01,  4.63092217e-01],\n",
       "       [ 7.79665226e-01, -1.38063418e+00],\n",
       "       [ 6.84438939e-01, -1.38063418e+00],\n",
       "       [ 1.35102295e+00,  2.30681862e+00],\n",
       "       [-7.73713583e-02,  2.61434642e-01],\n",
       "       [-1.72597645e-01,  8.37599143e-01],\n",
       "       [ 1.78549288e-02,  2.90242867e-01],\n",
       "       [ 1.06534409e+00,  5.20708667e-01],\n",
       "       [ 3.03533790e-01,  5.97770669e-02],\n",
       "       [ 1.63670181e+00,  1.73065412e+00],\n",
       "       [-1.12486052e+00,  5.97770669e-02],\n",
       "       [ 3.98760077e-01,  2.90242867e-01],\n",
       "       [ 1.16057037e+00, -1.43825063e+00],\n",
       "       [-6.48729081e-01,  1.38495542e+00],\n",
       "       [-2.67823933e-01,  5.97770669e-02],\n",
       "       [ 1.06534409e+00, -1.20778483e+00],\n",
       "       [-8.39181656e-01,  1.46201742e-01],\n",
       "       [-2.67823933e-01,  1.46201742e-01],\n",
       "       [-1.69621824e+00,  3.47859317e-01],\n",
       "       [-1.72597645e-01,  2.13396927e+00],\n",
       "       [-3.63050220e-01,  1.29853074e+00],\n",
       "       [ 8.74891513e-01, -1.43825063e+00],\n",
       "       [-1.79144453e+00, -1.29420951e+00],\n",
       "       [-1.12486052e+00,  2.90242867e-01],\n",
       "       [-7.73713583e-02,  3.09688419e-02],\n",
       "       [-7.73713583e-02,  2.19158572e+00],\n",
       "       [-1.72597645e-01, -1.99496958e-01],\n",
       "       [ 3.98760077e-01, -4.58770984e-01],\n",
       "       [ 9.70117800e-01, -1.17897661e+00],\n",
       "       [-7.43955368e-01,  1.06806494e+00],\n",
       "       [ 7.79665226e-01, -1.20778483e+00],\n",
       "       [ 1.78549288e-02, -5.45195659e-01],\n",
       "       [-6.48729081e-01,  1.17393517e-01],\n",
       "       [-2.67823933e-01, -5.74003884e-01],\n",
       "       [-7.43955368e-01,  1.87469524e+00],\n",
       "       [-1.12486052e+00, -1.15016838e+00],\n",
       "       [-8.39181656e-01,  3.76667542e-01],\n",
       "       [ 1.73192810e+00,  1.81707879e+00],\n",
       "       [ 3.03533790e-01,  4.91900442e-01],\n",
       "       [-1.60099195e+00,  5.20708667e-01],\n",
       "       [ 1.35102295e+00,  1.26972252e+00],\n",
       "       [ 7.79665226e-01, -8.33277909e-01],\n",
       "       [-1.31531309e+00, -4.29962758e-01],\n",
       "       [-5.53502794e-01, -1.49586708e+00],\n",
       "       [-2.67823933e-01, -4.29962758e-01],\n",
       "       [ 1.63670181e+00,  1.58661299e+00],\n",
       "       [ 8.74891513e-01, -5.74003884e-01],\n",
       "       [-7.73713583e-02,  2.13396927e+00],\n",
       "       [-8.39181656e-01, -1.20778483e+00],\n",
       "       [ 9.70117800e-01,  1.41376364e+00],\n",
       "       [-1.72597645e-01,  1.46201742e-01],\n",
       "       [ 1.54147552e+00,  2.16061688e-03],\n",
       "       [ 1.78549288e-02, -3.14729858e-01],\n",
       "       [ 3.03533790e-01, -2.85921633e-01],\n",
       "       [-7.43955368e-01, -6.02812109e-01],\n",
       "       [-6.48729081e-01,  1.75009967e-01],\n",
       "       [-9.34407943e-01,  4.05475767e-01],\n",
       "       [ 2.11283325e+00,  1.09687317e+00],\n",
       "       [-1.22008680e+00, -1.06374371e+00],\n",
       "       [-8.39181656e-01, -6.60428559e-01],\n",
       "       [-1.72597645e-01, -4.58770984e-01],\n",
       "       [ 3.03533790e-01,  5.97770669e-02],\n",
       "       [-1.50576567e+00, -4.29962758e-01],\n",
       "       [-4.58276507e-01,  1.24091429e+00],\n",
       "       [-1.02963423e+00, -3.43538083e-01],\n",
       "       [ 9.70117800e-01,  1.96111992e+00],\n",
       "       [ 3.98760077e-01,  1.09687317e+00],\n",
       "       [ 9.70117800e-01,  1.17393517e-01],\n",
       "       [ 2.01760696e+00, -8.04469684e-01],\n",
       "       [-2.67823933e-01,  3.09688419e-02],\n",
       "       [-2.67823933e-01,  7.79982693e-01],\n",
       "       [ 7.79665226e-01, -1.09255193e+00],\n",
       "       [-4.58276507e-01, -1.12136016e+00],\n",
       "       [-7.73713583e-02,  2.16061688e-03],\n",
       "       [-1.22008680e+00,  5.78325117e-01],\n",
       "       [ 4.93986365e-01,  1.70184589e+00],\n",
       "       [ 1.63670181e+00, -8.90894359e-01],\n",
       "       [ 2.01760696e+00,  1.75009967e-01],\n",
       "       [-2.67823933e-01, -5.74003884e-01],\n",
       "       [ 2.08307503e-01, -2.57113408e-01],\n",
       "       [-1.22008680e+00,  2.61434642e-01],\n",
       "       [ 2.11283325e+00, -8.04469684e-01],\n",
       "       [ 1.78549288e-02, -5.74003884e-01],\n",
       "       [-2.67823933e-01, -2.85921633e-01],\n",
       "       [ 1.44624924e+00, -1.03493548e+00],\n",
       "       [ 1.13081216e-01,  1.03925672e+00],\n",
       "       [ 8.74891513e-01, -6.02812109e-01],\n",
       "       [ 2.01760696e+00,  1.73065412e+00],\n",
       "       [-1.31531309e+00,  5.49516892e-01],\n",
       "       [-1.02963423e+00, -1.52467531e+00],\n",
       "       [ 1.35102295e+00,  5.78325117e-01],\n",
       "       [ 3.98760077e-01,  2.27801039e+00],\n",
       "       [-1.12486052e+00, -1.55348353e+00],\n",
       "       [ 1.78549288e-02,  1.21210607e+00],\n",
       "       [ 1.13081216e-01, -2.57113408e-01],\n",
       "       [ 1.13081216e-01, -8.04469684e-01],\n",
       "       [-2.67823933e-01,  1.46201742e-01],\n",
       "       [ 1.13081216e-01,  1.84588702e+00],\n",
       "       [-3.63050220e-01,  5.97770669e-02],\n",
       "       [-1.12486052e+00, -5.16387434e-01],\n",
       "       [-6.48729081e-01, -1.13072283e-01],\n",
       "       [-9.34407943e-01,  5.49516892e-01],\n",
       "       [-2.67823933e-01, -1.23659306e+00],\n",
       "       [-9.34407943e-01, -9.48510809e-01],\n",
       "       [ 2.08307503e-01, -3.72346308e-01],\n",
       "       [-3.63050220e-01, -7.75661459e-01],\n",
       "       [-7.43955368e-01,  4.91900442e-01],\n",
       "       [ 9.70117800e-01, -8.33277909e-01],\n",
       "       [-2.67823933e-01,  6.07133342e-01],\n",
       "       [-8.39181656e-01, -2.57113408e-01],\n",
       "       [-1.41053938e+00, -1.13072283e-01],\n",
       "       [ 1.78549288e-02, -2.57113408e-01],\n",
       "       [-1.79144453e+00, -1.26540128e+00],\n",
       "       [ 3.03533790e-01, -5.45195659e-01],\n",
       "       [ 9.70117800e-01,  1.84588702e+00],\n",
       "       [ 2.08307503e-01,  1.46201742e-01],\n",
       "       [-1.02963423e+00,  7.51174467e-01],\n",
       "       [-1.31531309e+00, -1.09255193e+00],\n",
       "       [ 8.74891513e-01,  1.06806494e+00],\n",
       "       [ 1.13081216e-01,  1.46201742e-01],\n",
       "       [-4.58276507e-01,  2.27801039e+00],\n",
       "       [-2.67823933e-01, -7.46853234e-01],\n",
       "       [ 8.74891513e-01,  1.24091429e+00],\n",
       "       [-1.12486052e+00, -1.52467531e+00]])"
      ]
     },
     "execution_count": 13,
     "metadata": {},
     "output_type": "execute_result"
    }
   ],
   "source": [
    "x_train=scaler.fit_transform(x_train)\n",
    "x_train"
   ]
  },
  {
   "cell_type": "code",
   "execution_count": 14,
   "metadata": {},
   "outputs": [
    {
     "name": "stderr",
     "output_type": "stream",
     "text": [
      "D:\\Anaconda\\lib\\site-packages\\sklearn\\utils\\validation.py:595: DataConversionWarning: Data with input dtype int64 was converted to float64 by StandardScaler.\n",
      "  warnings.warn(msg, DataConversionWarning)\n",
      "D:\\Anaconda\\lib\\site-packages\\sklearn\\utils\\validation.py:595: DataConversionWarning: Data with input dtype int64 was converted to float64 by StandardScaler.\n",
      "  warnings.warn(msg, DataConversionWarning)\n"
     ]
    },
    {
     "data": {
      "text/plain": [
       "array([[-1.96246752e-01, -1.28303152e-01],\n",
       "       [-1.35919047e+00,  4.15286527e-01],\n",
       "       [-2.93158728e-01, -1.40733769e+00],\n",
       "       [-8.74630586e-01, -3.20158333e-01],\n",
       "       [ 7.72873011e-01,  1.98210384e+00],\n",
       "       [-1.96246752e-01, -1.50326528e+00],\n",
       "       [-3.90070705e-01, -5.75965241e-01],\n",
       "       [ 4.82137082e-01, -4.80037651e-01],\n",
       "       [-2.42279941e-03, -5.43989378e-01],\n",
       "       [ 4.82137082e-01,  3.51334800e-01],\n",
       "       [-1.96246752e-01, -1.40733769e+00],\n",
       "       [ 4.82137082e-01,  1.27503756e-01],\n",
       "       [-9.71542563e-01, -1.56721701e+00],\n",
       "       [-1.45610244e+00, -1.34338597e+00],\n",
       "       [-9.93347757e-02, -1.15153078e+00],\n",
       "       [-1.96246752e-01, -3.20158333e-01],\n",
       "       [ 1.91401153e-01,  2.55407210e-01],\n",
       "       [ 9.44891769e-02, -1.28303152e-01],\n",
       "       [ 3.85225106e-01,  9.55278922e-02],\n",
       "       [ 2.88313130e-01,  6.35520287e-02],\n",
       "       [-1.64992640e+00, -1.05560319e+00],\n",
       "       [ 3.85225106e-01,  3.19358937e-01],\n",
       "       [ 1.35434487e+00,  2.07803143e+00],\n",
       "       [ 4.82137082e-01, -1.28303152e-01],\n",
       "       [-7.77718610e-01,  4.47262391e-01],\n",
       "       [ 1.06360894e+00, -1.15153078e+00],\n",
       "       [-9.93347757e-02,  1.82222452e+00],\n",
       "       [ 2.12964068e+00,  4.47262391e-01],\n",
       "       [-1.64992640e+00,  1.59479619e-01],\n",
       "       [ 3.85225106e-01, -1.24745837e+00],\n",
       "       [-4.86982681e-01,  9.90852070e-01],\n",
       "       [-9.71542563e-01,  4.79238254e-01],\n",
       "       [-2.42279941e-03,  2.87383073e-01],\n",
       "       [-3.90070705e-01, -3.99698294e-04],\n",
       "       [-1.35919047e+00, -1.56721701e+00],\n",
       "       [ 9.44891769e-02,  6.35520287e-02],\n",
       "       [ 4.82137082e-01, -1.60279016e-01],\n",
       "       [-1.96246752e-01,  2.55407210e-01],\n",
       "       [-1.06845454e+00, -1.72709633e+00],\n",
       "       [-1.74683837e+00,  3.15761652e-02],\n",
       "       [-1.06845454e+00,  5.43189981e-01],\n",
       "       [-1.96246752e-01, -7.03868695e-01],\n",
       "       [-7.77718610e-01,  2.52569352e+00],\n",
       "       [ 4.82137082e-01,  1.91455483e-01],\n",
       "       [ 1.93581673e+00, -1.15153078e+00],\n",
       "       [ 2.03272870e+00,  1.02282793e+00],\n",
       "       [-9.71542563e-01,  2.17395902e+00],\n",
       "       [-1.06845454e+00,  1.56641761e+00],\n",
       "       [ 9.66696964e-01, -1.40733769e+00],\n",
       "       [ 8.69784988e-01,  1.59479619e-01],\n",
       "       [ 2.88313130e-01, -3.20158333e-01],\n",
       "       [ 1.06360894e+00,  2.30186247e+00],\n",
       "       [-1.96246752e-01,  9.55278922e-02],\n",
       "       [-1.74683837e+00, -1.59919287e+00],\n",
       "       [-1.84375035e+00, -5.43989378e-01],\n",
       "       [ 5.79049059e-01,  1.37456243e+00],\n",
       "       [ 9.44891769e-02, -6.07941105e-01],\n",
       "       [ 2.22655266e+00, -8.63748013e-01],\n",
       "       [ 2.88313130e-01, -3.84110060e-01],\n",
       "       [ 1.16052092e+00,  5.43189981e-01],\n",
       "       [ 1.06360894e+00,  8.62948616e-01],\n",
       "       [-6.80806634e-01,  6.39117572e-01],\n",
       "       [-8.74630586e-01, -3.20158333e-01],\n",
       "       [-2.42279941e-03, -3.84110060e-01],\n",
       "       [ 2.03272870e+00,  2.39779006e+00],\n",
       "       [ 1.16052092e+00, -1.28303152e-01],\n",
       "       [ 1.25743289e+00,  6.07141708e-01],\n",
       "       [-6.80806634e-01, -2.24230743e-01],\n",
       "       [-1.35919047e+00, -1.31141010e+00],\n",
       "       [ 1.16052092e+00,  6.39117572e-01],\n",
       "       [ 1.91401153e-01,  1.27503756e-01],\n",
       "       [ 3.85225106e-01, -5.43989378e-01],\n",
       "       [-2.42279941e-03,  9.55278922e-02],\n",
       "       [-9.71542563e-01,  6.71093435e-01],\n",
       "       [ 3.85225106e-01,  6.35520287e-02],\n",
       "       [ 1.06360894e+00, -1.08757906e+00],\n",
       "       [ 1.45125685e+00, -9.91651467e-01],\n",
       "       [-1.16536652e+00,  5.75165845e-01],\n",
       "       [-1.84375035e+00,  5.43189981e-01],\n",
       "       [ 3.85225106e-01,  9.55278922e-02]])"
      ]
     },
     "execution_count": 14,
     "metadata": {},
     "output_type": "execute_result"
    }
   ],
   "source": [
    "x_test=scaler.fit_transform(x_test)\n",
    "x_test"
   ]
  },
  {
   "cell_type": "code",
   "execution_count": 15,
   "metadata": {},
   "outputs": [
    {
     "data": {
      "text/plain": [
       "17.88854381999832"
      ]
     },
     "execution_count": 15,
     "metadata": {},
     "output_type": "execute_result"
    }
   ],
   "source": [
    "# 1st method\n",
    "np.sqrt(x_train.shape[0])"
   ]
  },
  {
   "cell_type": "code",
   "execution_count": 16,
   "metadata": {},
   "outputs": [],
   "source": [
    "k=17"
   ]
  },
  {
   "cell_type": "code",
   "execution_count": 17,
   "metadata": {},
   "outputs": [],
   "source": [
    "from sklearn.neighbors import KNeighborsClassifier\n",
    "knn=KNeighborsClassifier(n_neighbors=k)"
   ]
  },
  {
   "cell_type": "code",
   "execution_count": 18,
   "metadata": {},
   "outputs": [
    {
     "data": {
      "text/plain": [
       "KNeighborsClassifier(algorithm='auto', leaf_size=30, metric='minkowski',\n",
       "           metric_params=None, n_jobs=None, n_neighbors=17, p=2,\n",
       "           weights='uniform')"
      ]
     },
     "execution_count": 18,
     "metadata": {},
     "output_type": "execute_result"
    }
   ],
   "source": [
    "# Train our model     (sqrt of the rows)\n",
    "knn.fit(x_train,y_train)"
   ]
  },
  {
   "cell_type": "code",
   "execution_count": 19,
   "metadata": {},
   "outputs": [],
   "source": [
    "y_pred=knn.predict(x_test)"
   ]
  },
  {
   "cell_type": "code",
   "execution_count": 20,
   "metadata": {},
   "outputs": [
    {
     "data": {
      "text/plain": [
       "(80,)"
      ]
     },
     "execution_count": 20,
     "metadata": {},
     "output_type": "execute_result"
    }
   ],
   "source": [
    "y_pred.shape"
   ]
  },
  {
   "cell_type": "code",
   "execution_count": 22,
   "metadata": {},
   "outputs": [
    {
     "data": {
      "text/plain": [
       "(80,)"
      ]
     },
     "execution_count": 22,
     "metadata": {},
     "output_type": "execute_result"
    }
   ],
   "source": [
    "y_test.shape"
   ]
  },
  {
   "cell_type": "code",
   "execution_count": 23,
   "metadata": {},
   "outputs": [
    {
     "data": {
      "text/plain": [
       "0.875"
      ]
     },
     "execution_count": 23,
     "metadata": {},
     "output_type": "execute_result"
    }
   ],
   "source": [
    "from sklearn.metrics import accuracy_score\n",
    "accuracy_score(y_test,y_pred)"
   ]
  },
  {
   "cell_type": "code",
   "execution_count": 24,
   "metadata": {},
   "outputs": [
    {
     "data": {
      "text/plain": [
       "array([[52,  6],\n",
       "       [ 4, 18]], dtype=int64)"
      ]
     },
     "execution_count": 24,
     "metadata": {},
     "output_type": "execute_result"
    }
   ],
   "source": [
    "from sklearn.metrics import confusion_matrix\n",
    "confusion_matrix(y_test,y_pred)"
   ]
  },
  {
   "cell_type": "code",
   "execution_count": 71,
   "metadata": {},
   "outputs": [],
   "source": [
    "#Effect of k on Training Error rate and validation Error rate\n",
    "\n",
    "error_train=[]\n",
    "error_test=[]\n",
    "\n",
    "for i in range(1,26):\n",
    "    knn=KNeighborsClassifier(n_neighbors=i)\n",
    "    knn.fit(x_train,y_train)\n",
    "    x=confusion_matrix(y_train,knn.predict(x_train))\n",
    "    y=confusion_matrix(y_test,knn.predict(x_test))\n",
    "    error_train.append((x[0][1]+x[1][0])/x.sum())\n",
    "    error_test.append((y[0][1]+y[1][0])/y.sum())"
   ]
  },
  {
   "cell_type": "code",
   "execution_count": 73,
   "metadata": {},
   "outputs": [
    {
     "data": {
      "text/plain": [
       "<matplotlib.legend.Legend at 0x1e6caddb390>"
      ]
     },
     "execution_count": 73,
     "metadata": {},
     "output_type": "execute_result"
    },
    {
     "data": {
      "image/png": "[encoded data removed]",
      "text/plain": [
       "<Figure size 432x288 with 1 Axes>"
      ]
     },
     "metadata": {
      "needs_background": "light"
     },
     "output_type": "display_data"
    }
   ],
   "source": [
    "plt.plot(range(1,26),error_train,label='training error rate')\n",
    "plt.plot(range(1,26),error_test,label='test/validation error rate')\n",
    "plt.xlabel('k value')\n",
    "plt.ylabel('Error')\n",
    "plt.legend()"
   ]
  },
  {
   "cell_type": "code",
   "execution_count": null,
   "metadata": {},
   "outputs": [],
   "source": []
  },
  {
   "cell_type": "code",
   "execution_count": null,
   "metadata": {},
   "outputs": [],
   "source": []
  },
  {
   "cell_type": "code",
   "execution_count": null,
   "metadata": {},
   "outputs": [],
   "source": []
  },
  {
   "cell_type": "code",
   "execution_count": null,
   "metadata": {},
   "outputs": [],
   "source": []
  },
  {
   "cell_type": "code",
   "execution_count": null,
   "metadata": {},
   "outputs": [],
   "source": []
  },
  {
   "cell_type": "code",
   "execution_count": 25,
   "metadata": {},
   "outputs": [],
   "source": [
    "# 2nd method    (Trial and error method)\n",
    "\n",
    "accuracy=[]\n",
    "\n",
    "for i in range(1,26):\n",
    "    knn=KNeighborsClassifier(n_neighbors=i)\n",
    "    knn.fit(x_train,y_train)\n",
    "    accuracy.append(accuracy_score(y_test,knn.predict(x_test)))"
   ]
  },
  {
   "cell_type": "code",
   "execution_count": 26,
   "metadata": {},
   "outputs": [
    {
     "data": {
      "text/plain": [
       "25"
      ]
     },
     "execution_count": 26,
     "metadata": {},
     "output_type": "execute_result"
    }
   ],
   "source": [
    "len(accuracy)"
   ]
  },
  {
   "cell_type": "code",
   "execution_count": 27,
   "metadata": {},
   "outputs": [
    {
     "data": {
      "text/plain": [
       "[<matplotlib.lines.Line2D at 0x1e6c7e6d400>]"
      ]
     },
     "execution_count": 27,
     "metadata": {},
     "output_type": "execute_result"
    },
    {
     "data": {
      "image/png": "[encoded data removed]",
      "text/plain": [
       "<Figure size 432x288 with 1 Axes>"
      ]
     },
     "metadata": {
      "needs_background": "light"
     },
     "output_type": "display_data"
    }
   ],
   "source": [
    "plt.plot(range(1,26),accuracy)"
   ]
  },
  {
   "cell_type": "code",
   "execution_count": 28,
   "metadata": {},
   "outputs": [
    {
     "data": {
      "text/plain": [
       "KNeighborsClassifier(algorithm='auto', leaf_size=30, metric='minkowski',\n",
       "           metric_params=None, n_jobs=None, n_neighbors=11, p=2,\n",
       "           weights='uniform')"
      ]
     },
     "execution_count": 28,
     "metadata": {},
     "output_type": "execute_result"
    }
   ],
   "source": [
    "knn=KNeighborsClassifier(n_neighbors=11)\n",
    "knn.fit(x_train,y_train)"
   ]
  },
  {
   "cell_type": "code",
   "execution_count": 29,
   "metadata": {},
   "outputs": [],
   "source": [
    "y_pred=knn.predict(x_test)"
   ]
  },
  {
   "cell_type": "code",
   "execution_count": 30,
   "metadata": {},
   "outputs": [
    {
     "data": {
      "text/plain": [
       "0.875"
      ]
     },
     "execution_count": 30,
     "metadata": {},
     "output_type": "execute_result"
    }
   ],
   "source": [
    "accuracy_score(y_test,y_pred)"
   ]
  },
  {
   "cell_type": "code",
   "execution_count": null,
   "metadata": {},
   "outputs": [],
   "source": []
  },
  {
   "cell_type": "code",
   "execution_count": 31,
   "metadata": {},
   "outputs": [],
   "source": [
    "def predict_output():\n",
    "    age=int(input(\"Enter the age\"))\n",
    "    salary=int(input(\"Enter the salary\"))\n",
    "    \n",
    "    x_new=np.array([[age],[salary]]).reshape(1,2)\n",
    "    x_new=scaler.transform(x_new)\n",
    "    \n",
    "    if knn.predict(x_new)[0]==0:\n",
    "        return\"Will not purchase\"\n",
    "    else:\n",
    "        return\"Will purchase\""
   ]
  },
  {
   "cell_type": "code",
   "execution_count": 32,
   "metadata": {},
   "outputs": [
    {
     "name": "stdout",
     "output_type": "stream",
     "text": [
      "Enter the age26\n",
      "Enter the salary45000\n"
     ]
    },
    {
     "name": "stderr",
     "output_type": "stream",
     "text": [
      "D:\\Anaconda\\lib\\site-packages\\sklearn\\utils\\validation.py:595: DataConversionWarning: Data with input dtype int32 was converted to float64 by StandardScaler.\n",
      "  warnings.warn(msg, DataConversionWarning)\n"
     ]
    },
    {
     "data": {
      "text/plain": [
       "'Will not purchase'"
      ]
     },
     "execution_count": 32,
     "metadata": {},
     "output_type": "execute_result"
    }
   ],
   "source": [
    "predict_output()"
   ]
  },
  {
   "cell_type": "code",
   "execution_count": null,
   "metadata": {},
   "outputs": [],
   "source": []
  },
  {
   "cell_type": "markdown",
   "metadata": {},
   "source": [
    "# Creating a Meshgrid"
   ]
  },
  {
   "cell_type": "code",
   "execution_count": 37,
   "metadata": {},
   "outputs": [],
   "source": [
    "a=np.arange(start=x_train[:,0].min()-1,stop=x_train[:,0].max()+1,step=0.01)\n",
    "b=np.arange(start=x_train[:,1].min()-1,stop=x_train[:,1].max()+1,step=0.01)\n",
    "\n",
    "xx,yy=np.meshgrid(a,b)\n"
   ]
  },
  {
   "cell_type": "code",
   "execution_count": 40,
   "metadata": {},
   "outputs": [
    {
     "data": {
      "text/plain": [
       "(589, 600)"
      ]
     },
     "execution_count": 40,
     "metadata": {},
     "output_type": "execute_result"
    }
   ],
   "source": [
    "yy.shape"
   ]
  },
  {
   "cell_type": "code",
   "execution_count": null,
   "metadata": {},
   "outputs": [],
   "source": []
  },
  {
   "cell_type": "markdown",
   "metadata": {},
   "source": [
    "# Classifying every point on the meshgrid"
   ]
  },
  {
   "cell_type": "code",
   "execution_count": 63,
   "metadata": {},
   "outputs": [],
   "source": [
    "input_array=np.array([xx.ravel(),yy.ravel()]).T\n",
    "\n",
    "labels=knn.predict(input_array)"
   ]
  },
  {
   "cell_type": "code",
   "execution_count": 64,
   "metadata": {},
   "outputs": [
    {
     "data": {
      "text/plain": [
       "array([0, 0, 0, ..., 1, 1, 1], dtype=int64)"
      ]
     },
     "execution_count": 64,
     "metadata": {},
     "output_type": "execute_result"
    }
   ],
   "source": [
    "labels"
   ]
  },
  {
   "cell_type": "markdown",
   "metadata": {},
   "source": [
    "# Plotting the array as an image"
   ]
  },
  {
   "cell_type": "code",
   "execution_count": 65,
   "metadata": {},
   "outputs": [
    {
     "data": {
      "text/plain": [
       "<matplotlib.contour.QuadContourSet at 0x1e6c9ab6550>"
      ]
     },
     "execution_count": 65,
     "metadata": {},
     "output_type": "execute_result"
    },
    {
     "data": {
      "image/png": "[encoded data removed]",
      "text/plain": [
       "<Figure size 432x288 with 1 Axes>"
      ]
     },
     "metadata": {
      "needs_background": "light"
     },
     "output_type": "display_data"
    }
   ],
   "source": [
    "plt.contourf(xx,yy,labels.reshape(xx.shape))"
   ]
  },
  {
   "cell_type": "markdown",
   "metadata": {},
   "source": [
    "# Plotting all the training data on the plot"
   ]
  },
  {
   "cell_type": "code",
   "execution_count": 69,
   "metadata": {},
   "outputs": [
    {
     "data": {
      "text/plain": [
       "<matplotlib.collections.PathCollection at 0x1e6c9f7e320>"
      ]
     },
     "execution_count": 69,
     "metadata": {},
     "output_type": "execute_result"
    },
    {
     "data": {
      "image/png": "[encoded data removed]",
      "text/plain": [
       "<Figure size 432x288 with 1 Axes>"
      ]
     },
     "metadata": {
      "needs_background": "light"
     },
     "output_type": "display_data"
    }
   ],
   "source": [
    "plt.contourf(xx,yy,labels.reshape(xx.shape),alpha=0.75)\n",
    "plt.scatter(x_train[:,0],x_train[:,1], c=y_train)"
   ]
  },
  {
   "cell_type": "code",
   "execution_count": null,
   "metadata": {},
   "outputs": [],
   "source": []
  }
 ],
 "metadata": {
  "kernelspec": {
   "display_name": "Python 3",
   "language": "python",
   "name": "python3"
  },
  "language_info": {
   "codemirror_mode": {
    "name": "ipython",
    "version": 3
   },
   "file_extension": ".py",
   "mimetype": "text/x-python",
   "name": "python",
   "nbconvert_exporter": "python",
   "pygments_lexer": "ipython3",
   "version": "3.7.3"
  }
 },
 "nbformat": 4,
 "nbformat_minor": 2
}
